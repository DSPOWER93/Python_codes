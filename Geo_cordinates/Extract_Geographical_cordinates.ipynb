{
  "nbformat": 4,
  "nbformat_minor": 0,
  "metadata": {
    "colab": {
      "name": "Extract Geographical cordinates.ipynb",
      "provenance": [],
      "collapsed_sections": []
    },
    "kernelspec": {
      "name": "python3",
      "display_name": "Python 3"
    }
  },
  "cells": [
    {
      "cell_type": "code",
      "metadata": {
        "id": "mLSw8bJ8xmI2"
      },
      "source": [
        "%%capture\r\n",
        "\r\n",
        "# Make sure to have kaggle.json API key Present in the wokring Directory\r\n",
        "! pip install -q kaggle\r\n",
        "! mkdir ~/.kaggle\r\n",
        "! cp kaggle.json ~/.kaggle/\r\n",
        "! chmod 600 ~/.kaggle/kaggle.json\r\n",
        "! kaggle datasets list\r\n",
        "! kaggle datasets download -d shree1992/housedata\r\n",
        "!unzip 'housedata.zip' # Or whichever location, the data is downloaded"
      ],
      "execution_count": 3,
      "outputs": []
    },
    {
      "cell_type": "code",
      "metadata": {
        "id": "FxxUw67bF3gR"
      },
      "source": [
        "import numpy as np\r\n",
        "import pandas as pd"
      ],
      "execution_count": 2,
      "outputs": []
    },
    {
      "cell_type": "code",
      "metadata": {
        "id": "9tBBVJFrGFG5"
      },
      "source": [
        "# Importing the dataset.\r\n",
        "df = pd.read_csv(\"data.csv\")"
      ],
      "execution_count": 4,
      "outputs": []
    },
    {
      "cell_type": "code",
      "metadata": {
        "id": "SipcPO0fEFFC"
      },
      "source": [
        "%%capture\r\n",
        "!pip install geocoder # to extract geo-cordinates "
      ],
      "execution_count": 5,
      "outputs": []
    },
    {
      "cell_type": "code",
      "metadata": {
        "colab": {
          "base_uri": "https://localhost:8080/"
        },
        "id": "q80YuCYkxuGQ",
        "outputId": "c403b18c-1068-4a8a-d612-90c447b3aacc"
      },
      "source": [
        "#  creating a new column of complete address\r\n",
        "Complete_address = []\r\n",
        "\r\n",
        "for i in range(df.shape[0]): \r\n",
        "  a = df.iloc[i,14]\r\n",
        "  b = df.iloc[i,15]\r\n",
        "  c = df.iloc[i,16]\r\n",
        "  d = a + ', ' + b + ', ' + c\r\n",
        "  Complete_address.append(d)\r\n",
        "\r\n",
        "print(Complete_address[0:2])"
      ],
      "execution_count": 6,
      "outputs": [
        {
          "output_type": "stream",
          "text": [
            "['18810 Densmore Ave N, Shoreline, WA 98133', '709 W Blaine St, Seattle, WA 98119']\n"
          ],
          "name": "stdout"
        }
      ]
    },
    {
      "cell_type": "code",
      "metadata": {
        "id": "jjK7QuGQzsvx"
      },
      "source": [
        "import geocoder\r\n",
        "\r\n",
        "street_lat_array = []\r\n",
        "street_long_array = []\r\n",
        "\r\n",
        "# Complete_address = Complete_address[0:100]\r\n",
        "\r\n",
        "for w in range(0,len(Complete_address),int(len(Complete_address)* 0.05)):\r\n",
        "  print(\"Progress Level :\",(w + int(len(Complete_address)* 0.05)) / len(Complete_address) )\r\n",
        "  for i in Complete_address[w:w+int(len(Complete_address)* 0.05)]:\r\n",
        "    sample_address = geocoder.osm(i)\r\n",
        "    street_lat_array.append(sample_address.lat)\r\n",
        "    street_long_array.append(sample_address.lng)\r\n",
        "\r\n",
        "# to verify the data is captured correctly.\r\n",
        "print(street_lat_array[0:2])\r\n",
        "print(street_long_array[0:2])\r\n",
        "\r\n",
        "#  Saving Street Lat-Long Data for  House Price df frame.\r\n",
        "\r\n",
        "Street_lat_long_df = pd.DataFrame({\r\n",
        "    'address': Complete_address, \r\n",
        "    'Lat_':  street_lat_array,\r\n",
        "    'long_': street_long_array\r\n",
        "})\r\n",
        "\r\n",
        "Street_lat_long_df.to_csv('street_lat_long_file1.csv')\r\n",
        "files.download('street_lat_long_file1.csv')"
      ],
      "execution_count": null,
      "outputs": []
    }
  ]
}